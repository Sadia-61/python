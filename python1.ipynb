{
 "cells": [
  {
   "cell_type": "code",
   "execution_count": 21,
   "id": "580c4694-cfa0-4944-8b4b-1c5980548c12",
   "metadata": {},
   "outputs": [
    {
     "ename": "SyntaxError",
     "evalue": "unterminated string literal (detected at line 1) (172853003.py, line 1)",
     "output_type": "error",
     "traceback": [
      "\u001b[1;36m  Cell \u001b[1;32mIn[21], line 1\u001b[1;36m\u001b[0m\n\u001b[1;33m    message = 'Bobby's World'\u001b[0m\n\u001b[1;37m                            ^\u001b[0m\n\u001b[1;31mSyntaxError\u001b[0m\u001b[1;31m:\u001b[0m unterminated string literal (detected at line 1)\n"
     ]
    }
   ],
   "source": [
    "message = 'Bobby's World'\n",
    "print(message)"
   ]
  },
  {
   "cell_type": "code",
   "execution_count": 22,
   "id": "aa44722d-d05a-4a74-a19a-5c05171cf94b",
   "metadata": {},
   "outputs": [
    {
     "name": "stdout",
     "output_type": "stream",
     "text": [
      "Bobby's World\n"
     ]
    }
   ],
   "source": [
    "message = 'Bobby\\'s World'\n",
    "print(message)"
   ]
  },
  {
   "cell_type": "code",
   "execution_count": 23,
   "id": "661ca814-ce4d-4973-9e04-b9ac635a8ffd",
   "metadata": {},
   "outputs": [
    {
     "name": "stdout",
     "output_type": "stream",
     "text": [
      "Bobby's World\n"
     ]
    }
   ],
   "source": [
    "message = \"Bobby's World\"\n",
    "print(message)"
   ]
  },
  {
   "cell_type": "code",
   "execution_count": 5,
   "id": "acbe2046-b116-4e12-af8d-dfe93c6556e7",
   "metadata": {},
   "outputs": [
    {
     "name": "stdout",
     "output_type": "stream",
     "text": [
      "Bobby's World was a good \n",
      "cartoon in the 1990's\n"
     ]
    }
   ],
   "source": [
    "message = \"\"\"Bobby's World was a good \n",
    "cartoon in the 1990's\"\"\"\n",
    "print(message)"
   ]
  },
  {
   "cell_type": "code",
   "execution_count": 9,
   "id": "752fb061-635d-45c1-a529-4f2f477cf9f4",
   "metadata": {},
   "outputs": [
    {
     "name": "stdout",
     "output_type": "stream",
     "text": [
      "13\n"
     ]
    }
   ],
   "source": [
    "message = 'Bobby\\'s World'\n",
    "print(len(message))"
   ]
  },
  {
   "cell_type": "code",
   "execution_count": 11,
   "id": "accb4cc8-30e7-48b1-91a0-89622ce60681",
   "metadata": {},
   "outputs": [
    {
     "name": "stdout",
     "output_type": "stream",
     "text": [
      "r\n"
     ]
    }
   ],
   "source": [
    "message = 'Bobby\\'s World'\n",
    "print(message[10])"
   ]
  },
  {
   "cell_type": "code",
   "execution_count": 12,
   "id": "b251b230-f96a-4b00-af7e-09cded3c8dfb",
   "metadata": {},
   "outputs": [
    {
     "name": "stdout",
     "output_type": "stream",
     "text": [
      "Bobby's Wo\n"
     ]
    }
   ],
   "source": [
    "message = 'Bobby\\'s World'\n",
    "print(message[0:10])"
   ]
  },
  {
   "cell_type": "code",
   "execution_count": 13,
   "id": "0cb73df9-d8b6-41a8-a945-91c783461e5e",
   "metadata": {},
   "outputs": [
    {
     "name": "stdout",
     "output_type": "stream",
     "text": [
      "Bobby's Wo\n"
     ]
    }
   ],
   "source": [
    "message = 'Bobby\\'s World'\n",
    "print(message[:10])"
   ]
  },
  {
   "cell_type": "code",
   "execution_count": 14,
   "id": "b4a5129b-3051-4be3-8a8c-ad8072c56898",
   "metadata": {},
   "outputs": [
    {
     "name": "stdout",
     "output_type": "stream",
     "text": [
      "s World\n"
     ]
    }
   ],
   "source": [
    "message = 'Bobby\\'s World'\n",
    "print(message[6:])"
   ]
  },
  {
   "cell_type": "code",
   "execution_count": 15,
   "id": "24a67441-ae56-4b6f-8f7d-19f05a463cad",
   "metadata": {},
   "outputs": [
    {
     "name": "stdout",
     "output_type": "stream",
     "text": [
      "bobby's world\n"
     ]
    }
   ],
   "source": [
    "message = 'Bobby\\'s World'\n",
    "print(message.lower())"
   ]
  },
  {
   "cell_type": "code",
   "execution_count": 20,
   "id": "49527bc3-f376-48c5-b1c3-750ba4753d1f",
   "metadata": {},
   "outputs": [
    {
     "name": "stdout",
     "output_type": "stream",
     "text": [
      "BOBBY'S WORLD\n"
     ]
    }
   ],
   "source": [
    "message = 'Bobby\\'s World'\n",
    "print(message.upper())"
   ]
  },
  {
   "cell_type": "code",
   "execution_count": 25,
   "id": "f0917586-9836-4388-bdce-970a309370bb",
   "metadata": {},
   "outputs": [
    {
     "name": "stdout",
     "output_type": "stream",
     "text": [
      "0\n"
     ]
    }
   ],
   "source": [
    "message = 'Bobby\\'s World'\n",
    "print(message.count('i'))"
   ]
  },
  {
   "cell_type": "code",
   "execution_count": 27,
   "id": "f3b27952-c454-480c-a7b7-a085feff7a09",
   "metadata": {},
   "outputs": [
    {
     "name": "stdout",
     "output_type": "stream",
     "text": [
      "2\n"
     ]
    }
   ],
   "source": [
    "message = 'Bobby\\'s World'\n",
    "print(message.count('b'))"
   ]
  },
  {
   "cell_type": "code",
   "execution_count": 29,
   "id": "fb75d398-4d0c-416d-8956-54f2a9bf1f17",
   "metadata": {},
   "outputs": [
    {
     "name": "stdout",
     "output_type": "stream",
     "text": [
      "8\n"
     ]
    }
   ],
   "source": [
    "message = 'Bobby\\'s World'\n",
    "print(message.find('World'))"
   ]
  },
  {
   "cell_type": "code",
   "execution_count": 30,
   "id": "e08183d7-1328-40be-9a2b-63f0084d53a6",
   "metadata": {},
   "outputs": [
    {
     "name": "stdout",
     "output_type": "stream",
     "text": [
      "9\n"
     ]
    }
   ],
   "source": [
    "message = 'Bobby\\'s World'\n",
    "print(message.find('orld'))"
   ]
  },
  {
   "cell_type": "code",
   "execution_count": 31,
   "id": "cada4a63-374b-4970-8d2b-be0ef6d925bc",
   "metadata": {},
   "outputs": [
    {
     "name": "stdout",
     "output_type": "stream",
     "text": [
      "6\n"
     ]
    }
   ],
   "source": [
    "message = 'Hello World'\n",
    "print(message.find('World'))"
   ]
  },
  {
   "cell_type": "code",
   "execution_count": 32,
   "id": "a63f0d3d-afc6-4b1b-865c-a7c3c771141b",
   "metadata": {},
   "outputs": [
    {
     "name": "stdout",
     "output_type": "stream",
     "text": [
      "-1\n"
     ]
    }
   ],
   "source": [
    "message = 'Hello World'\n",
    "print(message.find('Universe'))"
   ]
  },
  {
   "cell_type": "code",
   "execution_count": 35,
   "id": "4b01e741-711c-40a5-9e33-5604868944db",
   "metadata": {},
   "outputs": [
    {
     "name": "stdout",
     "output_type": "stream",
     "text": [
      "Hello World\n"
     ]
    }
   ],
   "source": [
    "message = 'Hello World'\n",
    "message.replace('World','Universe')\n",
    "print(message)"
   ]
  },
  {
   "cell_type": "code",
   "execution_count": 36,
   "id": "576953e1-e9e9-46b7-babc-dc8ff2f33e57",
   "metadata": {},
   "outputs": [
    {
     "name": "stdout",
     "output_type": "stream",
     "text": [
      "Hello Universe\n"
     ]
    }
   ],
   "source": [
    "message = 'Hello World'\n",
    "new_message = message.replace('World','Universe')\n",
    "print(new_message)"
   ]
  },
  {
   "cell_type": "code",
   "execution_count": 37,
   "id": "bc0a3454-21e3-439d-ad0a-52abbd8d73ae",
   "metadata": {},
   "outputs": [
    {
     "name": "stdout",
     "output_type": "stream",
     "text": [
      "HelloSadia\n"
     ]
    }
   ],
   "source": [
    "greeting = 'Hello'\n",
    "name = 'Sadia'\n",
    "message = greeting + name\n",
    "print(message)"
   ]
  },
  {
   "cell_type": "code",
   "execution_count": 38,
   "id": "46ed24cb-c553-4baa-a57b-ec46e33219f4",
   "metadata": {},
   "outputs": [
    {
     "name": "stdout",
     "output_type": "stream",
     "text": [
      "Hello, Sadia\n"
     ]
    }
   ],
   "source": [
    "greeting = 'Hello'\n",
    "name = 'Sadia'\n",
    "message = greeting + ', ' + name\n",
    "print(message)"
   ]
  },
  {
   "cell_type": "code",
   "execution_count": 43,
   "id": "46e58695-5e63-4b80-afb5-3d7c8d01c84c",
   "metadata": {},
   "outputs": [
    {
     "name": "stdout",
     "output_type": "stream",
     "text": [
      "Hello, Sadia.Welcome!\n"
     ]
    }
   ],
   "source": [
    "greeting = 'Hello'\n",
    "name = 'Sadia'\n",
    "message = greeting + ', ' + name + '.Welcome!'\n",
    "#message = '{}, {}, Welcome!'.format(greeting,name)\n",
    "print(message)"
   ]
  },
  {
   "cell_type": "code",
   "execution_count": 44,
   "id": "3f3e0836-280d-4307-a9ea-f0a4e9959c9d",
   "metadata": {},
   "outputs": [
    {
     "name": "stdout",
     "output_type": "stream",
     "text": [
      "Hello, Sadia. Welcome!\n"
     ]
    }
   ],
   "source": [
    "greeting = 'Hello'\n",
    "name = 'Sadia'\n",
    "message = '{}, {}. Welcome!'.format(greeting,name)\n",
    "print(message)"
   ]
  },
  {
   "cell_type": "code",
   "execution_count": 47,
   "id": "c6bef330-9a38-4748-be86-ba11d75c231b",
   "metadata": {},
   "outputs": [
    {
     "name": "stdout",
     "output_type": "stream",
     "text": [
      "Hello, Sadia. Welcome!\n"
     ]
    }
   ],
   "source": [
    "greeting = 'Hello'\n",
    "name = 'Sadia'\n",
    "message = f'{greeting}, {name}. Welcome!'\n",
    "print(message)"
   ]
  },
  {
   "cell_type": "code",
   "execution_count": 48,
   "id": "04035a80-f87c-4534-8eb8-6cf983a35b49",
   "metadata": {},
   "outputs": [
    {
     "name": "stdout",
     "output_type": "stream",
     "text": [
      "Hello, SADIA. Welcome!\n"
     ]
    }
   ],
   "source": [
    "greeting = 'Hello'\n",
    "name = 'Sadia'\n",
    "message = f'{greeting}, {name.upper()}. Welcome!'\n",
    "print(message)"
   ]
  },
  {
   "cell_type": "code",
   "execution_count": 51,
   "id": "3a871929-49ba-4138-9a56-cbb30be955c8",
   "metadata": {},
   "outputs": [
    {
     "name": "stdout",
     "output_type": "stream",
     "text": [
      "Help on method_descriptor:\n",
      "\n",
      "lower(self, /)\n",
      "    Return a copy of the string converted to lowercase.\n",
      "\n",
      "None\n"
     ]
    }
   ],
   "source": [
    "greeting = 'Hello'\n",
    "name = 'Sadia'\n",
    "print(help(str.lower))"
   ]
  },
  {
   "cell_type": "code",
   "execution_count": 52,
   "id": "269c814f-8cd7-4733-aa79-7443b994b5f7",
   "metadata": {},
   "outputs": [
    {
     "name": "stdout",
     "output_type": "stream",
     "text": [
      "1\n"
     ]
    }
   ],
   "source": [
    "print(3//2)"
   ]
  },
  {
   "cell_type": "code",
   "execution_count": 53,
   "id": "f5013604-4e75-4b2c-8c66-9e7850d467fa",
   "metadata": {},
   "outputs": [
    {
     "name": "stdout",
     "output_type": "stream",
     "text": [
      "9\n"
     ]
    }
   ],
   "source": [
    "print(3**2)"
   ]
  },
  {
   "cell_type": "code",
   "execution_count": 55,
   "id": "97224844-7c34-4aa2-bdc1-17d2e0e75cea",
   "metadata": {},
   "outputs": [
    {
     "name": "stdout",
     "output_type": "stream",
     "text": [
      "0\n",
      "1\n",
      "0\n",
      "1\n"
     ]
    }
   ],
   "source": [
    "print(2%2)\n",
    "print(3%2)\n",
    "print(4%2)\n",
    "print(5%2)"
   ]
  },
  {
   "cell_type": "code",
   "execution_count": 57,
   "id": "343dbddc-73b0-4ef5-8ad6-576cf99adde4",
   "metadata": {},
   "outputs": [
    {
     "name": "stdout",
     "output_type": "stream",
     "text": [
      "7\n",
      "9\n",
      "0\n",
      "1\n"
     ]
    }
   ],
   "source": [
    "print(3*2+1)\n",
    "print(3*(2+1))\n",
    "print(4%2)\n",
    "print(5%2)"
   ]
  },
  {
   "cell_type": "code",
   "execution_count": 58,
   "id": "fb4c69a7-39cc-4a12-9a7a-361c1cec56d4",
   "metadata": {},
   "outputs": [
    {
     "name": "stdout",
     "output_type": "stream",
     "text": [
      "2\n"
     ]
    }
   ],
   "source": [
    "nun = 1\n",
    "nun = nun +1\n",
    "print(nun)"
   ]
  },
  {
   "cell_type": "code",
   "execution_count": 59,
   "id": "03016a87-8a08-4d9f-a105-1752b9d48352",
   "metadata": {},
   "outputs": [
    {
     "name": "stdout",
     "output_type": "stream",
     "text": [
      "2\n"
     ]
    }
   ],
   "source": [
    "nun = 1\n",
    "nun += 1\n",
    "print(nun)"
   ]
  },
  {
   "cell_type": "code",
   "execution_count": 60,
   "id": "32cdab50-63e4-4fdf-ab2c-f0095ddd40b9",
   "metadata": {},
   "outputs": [
    {
     "name": "stdout",
     "output_type": "stream",
     "text": [
      "3\n"
     ]
    }
   ],
   "source": [
    "print(abs(-3))"
   ]
  },
  {
   "cell_type": "code",
   "execution_count": 66,
   "id": "640ede38-639e-484d-9f95-973bdef6da0e",
   "metadata": {},
   "outputs": [
    {
     "name": "stdout",
     "output_type": "stream",
     "text": [
      "3.8\n"
     ]
    }
   ],
   "source": [
    "print(round(3.75,1))"
   ]
  },
  {
   "cell_type": "code",
   "execution_count": 62,
   "id": "098015e2-b941-4810-8874-1b74152b9417",
   "metadata": {},
   "outputs": [
    {
     "name": "stdout",
     "output_type": "stream",
     "text": [
      "False\n"
     ]
    }
   ],
   "source": [
    "num_1 = 3\n",
    "num_2 = 2\n",
    "print(num_1 == num_2)"
   ]
  },
  {
   "cell_type": "code",
   "execution_count": 63,
   "id": "c291cbe5-729f-4653-8d7d-6200ac8a50f4",
   "metadata": {},
   "outputs": [
    {
     "name": "stdout",
     "output_type": "stream",
     "text": [
      "True\n"
     ]
    }
   ],
   "source": [
    "num_1 = 3\n",
    "num_2 = 2\n",
    "print(num_1 != num_2)"
   ]
  },
  {
   "cell_type": "code",
   "execution_count": 64,
   "id": "31776e01-a21f-4735-be18-7b6acd0eb14e",
   "metadata": {},
   "outputs": [
    {
     "name": "stdout",
     "output_type": "stream",
     "text": [
      "True\n"
     ]
    }
   ],
   "source": [
    "num_1 = 3\n",
    "num_2 = 2\n",
    "print(num_1 > num_2)"
   ]
  },
  {
   "cell_type": "code",
   "execution_count": 65,
   "id": "4b8074d8-250f-4c58-aa20-43b000ef51ea",
   "metadata": {},
   "outputs": [
    {
     "name": "stdout",
     "output_type": "stream",
     "text": [
      "False\n"
     ]
    }
   ],
   "source": [
    "num_1 = 3\n",
    "num_2 = 2\n",
    "print(num_1 < num_2)"
   ]
  },
  {
   "cell_type": "code",
   "execution_count": 67,
   "id": "2897cb2a-308b-4c6d-84c2-cec8d318620a",
   "metadata": {},
   "outputs": [
    {
     "name": "stdout",
     "output_type": "stream",
     "text": [
      "False\n"
     ]
    }
   ],
   "source": [
    "num_1 = 3\n",
    "num_2 = 2\n",
    "print(num_1 <= num_2)"
   ]
  },
  {
   "cell_type": "code",
   "execution_count": 69,
   "id": "8bd63d98-4da4-40c6-9a9a-7874242110f0",
   "metadata": {},
   "outputs": [
    {
     "name": "stdout",
     "output_type": "stream",
     "text": [
      "100200\n"
     ]
    }
   ],
   "source": [
    "num_1 = '100'\n",
    "num_2 = '200'\n",
    "print(num_1 + num_2)"
   ]
  },
  {
   "cell_type": "code",
   "execution_count": null,
   "id": "9c5b8c05-2370-450d-b343-592603b9648f",
   "metadata": {},
   "outputs": [],
   "source": []
  }
 ],
 "metadata": {
  "kernelspec": {
   "display_name": "Python 3 (ipykernel)",
   "language": "python",
   "name": "python3"
  },
  "language_info": {
   "codemirror_mode": {
    "name": "ipython",
    "version": 3
   },
   "file_extension": ".py",
   "mimetype": "text/x-python",
   "name": "python",
   "nbconvert_exporter": "python",
   "pygments_lexer": "ipython3",
   "version": "3.12.1"
  }
 },
 "nbformat": 4,
 "nbformat_minor": 5
}
